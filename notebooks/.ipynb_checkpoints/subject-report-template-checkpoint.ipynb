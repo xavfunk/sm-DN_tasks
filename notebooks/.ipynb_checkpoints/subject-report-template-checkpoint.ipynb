{
 "cells": [
  {
   "cell_type": "code",
   "execution_count": 9,
   "id": "baf8ec34",
   "metadata": {},
   "outputs": [],
   "source": [
    "sub = '01'\n",
    "data_root = '/home/funk/repos/sm-DN_tasks/data/TEST/psychophysics'"
   ]
  },
  {
   "cell_type": "code",
   "execution_count": 29,
   "id": "6225cba4",
   "metadata": {},
   "outputs": [],
   "source": [
    "from utils_nb import *\n",
    "from glob import glob\n",
    "import os\n",
    "from fnmatch import fnmatch"
   ]
  },
  {
   "cell_type": "code",
   "execution_count": 52,
   "id": "d3f80cbc",
   "metadata": {},
   "outputs": [],
   "source": [
    "def prep_data_tempInt(subnrs, sesnrs, runnrs, task='SJ', root = 'TempInt_pilot', framerate = 1/120, verbose = 0,\n",
    "                     return_paths = False, data_paths = None):\n",
    "    \"\"\"\n",
    "    goes through root folder, should be bids-like, selects all data for the\n",
    "    given sub-ses-run-task combination\n",
    "    \n",
    "    one just processing the events.tsv and the other one managing the files,\n",
    "    add sigmoid and gaussian fits\n",
    "    \"\"\"\n",
    "    # init result df lists, to become columns\n",
    "    soas = [] # stimulus onset asynchrony\n",
    "    resps = [] # responses\n",
    "    subs = [] # subject\n",
    "    sessions = []\n",
    "    runs = []\n",
    "    which_first = [] # A or V first?\n",
    "    \n",
    "    # select data\n",
    "    if data_paths is None:\n",
    "        data_paths = select_data_tempInt(subnrs, sesnrs, runnrs, root = root, task = task, verbose = 0)\n",
    "\n",
    "    for path in data_paths:\n",
    "        # load run data\n",
    "        dat = pd.read_csv(path, sep='\\t')\n",
    "        \n",
    "        # unpack sub, ses, run from string\n",
    "        bids_dict = parse_bids_filename(path)\n",
    "        subnr = bids_dict['sub']\n",
    "        sesnr = bids_dict['ses']\n",
    "        runnr = bids_dict['run']\n",
    "                    \n",
    "        for trial in dat.trial_nr.unique():    \n",
    "            # index trial\n",
    "            trial_df = dat[dat.trial_nr == trial]\n",
    "            soa = trial_df.soa.iloc[0]\n",
    "\n",
    "            if task == 'SJ':\n",
    "                # process SJ\n",
    "                try:\n",
    "                    # getting response in response period phase 3\n",
    "                    response = trial_df[(trial_df.event_type == 'response') & (trial_df.phase == 3)].response.values[0]\n",
    "                except IndexError:\n",
    "                    response = None\n",
    "\n",
    "                # synchonous is coded as 1\n",
    "                response = 1 if response == 'synchronous' else 0\n",
    "                resps.append(response)\n",
    "\n",
    "            else:\n",
    "                # process TOJ\n",
    "                try:\n",
    "                    # getting response in response period phase 3\n",
    "                    response_correct = trial_df[(trial_df.event_type == 'response') & (trial_df.phase == 3)].correct.values[0]\n",
    "                except IndexError:\n",
    "                    response_correct = None\n",
    "\n",
    "                # correct is coded as 1\n",
    "                resps.append(response_correct)\n",
    "\n",
    "            first = trial_df.order.iloc[0][0] # which stimulus type was first, derived from tial type 'AV'/'VA'\n",
    "            soa = soa if first == 'A' else -soa # making soas for visual first negative\n",
    "\n",
    "            soas.append(soa)\n",
    "            subs.append(subnr)\n",
    "            sessions.append(sesnr)\n",
    "            runs.append(runnr)\n",
    "            which_first.append(first)\n",
    "    \n",
    "    # make df\n",
    "    resps_df = pd.DataFrame({'soa_f' : soas, 'neg_soa_f': [-soa for soa in soas], 'soa_ms': [soa*framerate*1000 for soa in soas], \n",
    "                             'neg_soa_ms': [-soa*framerate*1000 for soa in soas],\n",
    "                             'response' : resps, 'subject': subs, 'session':sessions, 'run':runs, 'first':which_first})\n",
    "\n",
    "    # flipped response coding for V-first trials\n",
    "    comb_soas = []\n",
    "    responses_flipped = []\n",
    "\n",
    "    for i, row in resps_df.iterrows():\n",
    "        \n",
    "        if row['first'] == 'V': \n",
    "            comb_soas.append(row['neg_soa_f'])\n",
    "            # flip response\n",
    "            if row['response'] == 0.0:\n",
    "                responses_flipped.append(1.0)\n",
    "            else:\n",
    "                responses_flipped.append(0.0)\n",
    "\n",
    "        else:\n",
    "            comb_soas.append(row['soa_f'])\n",
    "            responses_flipped.append(row['response'])\n",
    "            \n",
    "    resps_df['comb_soa_f'] = comb_soas\n",
    "    resps_df['comb_soa_ms'] = [comb_soa *framerate*1000 for comb_soa in comb_soas]\n",
    "    resps_df['responses_flipped'] = responses_flipped\n",
    "    \n",
    "    if return_paths:\n",
    "        return resps_df, data_paths\n",
    "    else:\n",
    "        return resps_df"
   ]
  },
  {
   "cell_type": "code",
   "execution_count": 47,
   "id": "a8ab3544",
   "metadata": {},
   "outputs": [
    {
     "name": "stdout",
     "output_type": "stream",
     "text": [
      "found 0 files for ses-00\n",
      "found 8 files for ses-01\n",
      "found 0 files for ses-02\n",
      "found 0 files for ses-03\n",
      "['/home/funk/repos/sm-DN_tasks/data/TEST/psychophysics/sub-01/ses-01/sub-01_ses-01_task-TempRep_run-01.edf', '/home/funk/repos/sm-DN_tasks/data/TEST/psychophysics/sub-01/ses-01/sub-01_ses-01_task-SigDet_run-01.edf', '/home/funk/repos/sm-DN_tasks/data/TEST/psychophysics/sub-01/ses-01/sub-01_ses-01_task-TempRep_run-01_events.tsv', '/home/funk/repos/sm-DN_tasks/data/TEST/psychophysics/sub-01/ses-01/sub-01_ses-01_task-TempIntTOJ_run-01.edf', '/home/funk/repos/sm-DN_tasks/data/TEST/psychophysics/sub-01/ses-01/sub-01_ses-01_task-TempIntTOJ_run-01_events.tsv', '/home/funk/repos/sm-DN_tasks/data/TEST/psychophysics/sub-01/ses-01/sub-01_ses-01_task-SigDet_run-01_events.tsv', '/home/funk/repos/sm-DN_tasks/data/TEST/psychophysics/sub-01/ses-01/sub-01_ses-01_task-TempIntSJ_run-01.edf', '/home/funk/repos/sm-DN_tasks/data/TEST/psychophysics/sub-01/ses-01/sub-01_ses-01_task-TempIntSJ_run-01_events.tsv']\n"
     ]
    },
    {
     "data": {
      "text/plain": [
       "['/home/funk/repos/sm-DN_tasks/data/TEST/psychophysics/sub-01/ses-01/sub-01_ses-01_task-TempIntSJ_run-01.edf',\n",
       " '/home/funk/repos/sm-DN_tasks/data/TEST/psychophysics/sub-01/ses-01/sub-01_ses-01_task-TempIntSJ_run-01_events.tsv']"
      ]
     },
     "execution_count": 47,
     "metadata": {},
     "output_type": "execute_result"
    }
   ],
   "source": [
    "# grab files\n",
    "paths = []\n",
    "events_paths = []\n",
    "edf_paths = []\n",
    "sj_paths = []\n",
    "toj_paths = []\n",
    "sd_paths = []\n",
    "tr_paths = []\n",
    "\n",
    "for ses in ['00', '01', '02', '03']:\n",
    "    ses_paths = glob(os.path.join(data_root, f'sub-{sub}', f'ses-{ses}', '*'))\n",
    "\n",
    "    tr_paths += [path for path in ses_paths if ('TempRep' in path)]\n",
    "    sj_paths += [path for path in ses_paths if ('TempIntSJ' in path)]\n",
    "    toj_paths += [path for path in ses_paths if ('TempIntTOJ' in path)]\n",
    "    sd_paths += [path for path in ses_paths if  ('SigDet' in path)]\n",
    "    \n",
    "    print(f'found {len(ses_paths)} files for ses-{ses}')\n",
    "    events_paths += [path for path in ses_paths if 'event' in path]\n",
    "    edf_paths += [path for path in ses_paths if 'edf' in path]\n",
    "    \n",
    "    paths += ses_paths\n",
    "#     print(sd_paths)\n",
    "\n",
    "# print([path.split('/')[-1] for path in paths if 'events' in path])\n",
    "print(paths)\n",
    "sj_paths"
   ]
  },
  {
   "cell_type": "code",
   "execution_count": 54,
   "id": "f782d843",
   "metadata": {},
   "outputs": [
    {
     "ename": "KeyError",
     "evalue": "'sess'",
     "output_type": "error",
     "traceback": [
      "\u001b[0;31m---------------------------------------------------------------------------\u001b[0m",
      "\u001b[0;31mKeyError\u001b[0m                                  Traceback (most recent call last)",
      "\u001b[0;32m/tmp/ipykernel_396102/145607516.py\u001b[0m in \u001b[0;36m<module>\u001b[0;34m\u001b[0m\n\u001b[1;32m      1\u001b[0m \u001b[0msj_events\u001b[0m \u001b[0;34m=\u001b[0m \u001b[0;34m[\u001b[0m\u001b[0mpath\u001b[0m \u001b[0;32mfor\u001b[0m \u001b[0mpath\u001b[0m \u001b[0;32min\u001b[0m \u001b[0mpaths\u001b[0m \u001b[0;32mif\u001b[0m \u001b[0;34m(\u001b[0m\u001b[0;34m'TempIntSJ'\u001b[0m \u001b[0;32min\u001b[0m \u001b[0mpath\u001b[0m\u001b[0;34m)\u001b[0m \u001b[0;32mand\u001b[0m \u001b[0;34m(\u001b[0m\u001b[0;34m'events'\u001b[0m \u001b[0;32min\u001b[0m \u001b[0mpath\u001b[0m\u001b[0;34m)\u001b[0m\u001b[0;34m]\u001b[0m\u001b[0;34m\u001b[0m\u001b[0;34m\u001b[0m\u001b[0m\n\u001b[1;32m      2\u001b[0m \u001b[0msj_events\u001b[0m\u001b[0;34m\u001b[0m\u001b[0;34m\u001b[0m\u001b[0m\n\u001b[0;32m----> 3\u001b[0;31m prep_data_tempInt(None, None, None, task='SJ', root = None, framerate = 1/120, verbose = 0,\n\u001b[0m\u001b[1;32m      4\u001b[0m                      return_paths = False, data_paths = sj_events)\n",
      "\u001b[0;32m/tmp/ipykernel_396102/1050971873.py\u001b[0m in \u001b[0;36mprep_data_tempInt\u001b[0;34m(subnrs, sesnrs, runnrs, task, root, framerate, verbose, return_paths, data_paths)\u001b[0m\n\u001b[1;32m     27\u001b[0m         \u001b[0mbids_dict\u001b[0m \u001b[0;34m=\u001b[0m \u001b[0mparse_bids_filename\u001b[0m\u001b[0;34m(\u001b[0m\u001b[0mpath\u001b[0m\u001b[0;34m)\u001b[0m\u001b[0;34m\u001b[0m\u001b[0;34m\u001b[0m\u001b[0m\n\u001b[1;32m     28\u001b[0m         \u001b[0msubnr\u001b[0m \u001b[0;34m=\u001b[0m \u001b[0mbids_dict\u001b[0m\u001b[0;34m[\u001b[0m\u001b[0;34m'sub'\u001b[0m\u001b[0;34m]\u001b[0m\u001b[0;34m\u001b[0m\u001b[0;34m\u001b[0m\u001b[0m\n\u001b[0;32m---> 29\u001b[0;31m         \u001b[0msesnr\u001b[0m \u001b[0;34m=\u001b[0m \u001b[0mbids_dict\u001b[0m\u001b[0;34m[\u001b[0m\u001b[0;34m'sess'\u001b[0m\u001b[0;34m]\u001b[0m\u001b[0;34m\u001b[0m\u001b[0;34m\u001b[0m\u001b[0m\n\u001b[0m\u001b[1;32m     30\u001b[0m         \u001b[0mrunnr\u001b[0m \u001b[0;34m=\u001b[0m \u001b[0mbids_dict\u001b[0m\u001b[0;34m[\u001b[0m\u001b[0;34m'run'\u001b[0m\u001b[0;34m]\u001b[0m\u001b[0;34m\u001b[0m\u001b[0;34m\u001b[0m\u001b[0m\n\u001b[1;32m     31\u001b[0m \u001b[0;34m\u001b[0m\u001b[0m\n",
      "\u001b[0;31mKeyError\u001b[0m: 'sess'"
     ]
    }
   ],
   "source": [
    "sj_events = [path for path in paths if ('TempIntSJ' in path) and ('events' in path)]\n",
    "sj_events\n",
    "prep_data_tempInt(None, None, None, task='SJ', root = None, framerate = 1/120, verbose = 0,\n",
    "                     return_paths = False, data_paths = sj_events)"
   ]
  },
  {
   "cell_type": "code",
   "execution_count": 43,
   "id": "fa7b0177",
   "metadata": {},
   "outputs": [
    {
     "data": {
      "text/plain": [
       "[]"
      ]
     },
     "execution_count": 43,
     "metadata": {},
     "output_type": "execute_result"
    }
   ],
   "source": [
    "sd_paths"
   ]
  },
  {
   "cell_type": "code",
   "execution_count": 36,
   "id": "ba682eed",
   "metadata": {},
   "outputs": [
    {
     "data": {
      "text/plain": [
       "['sub-01_ses-01_task-TempRep_run-01_events.tsv',\n",
       " 'sub-01_ses-01_task-TempRep_run-02_events.tsv',\n",
       " 'sub-01_ses-01_task-TempRep_run-03_events.tsv']"
      ]
     },
     "execution_count": 36,
     "metadata": {},
     "output_type": "execute_result"
    }
   ],
   "source": [
    "ls = ['sub-01_ses-01_task-TempRep_run-03_events.tsv', 'sub-01_ses-01_task-TempRep_run-02_events.tsv', 'sub-01_ses-01_task-TempRep_run-01_events.tsv']\n",
    "ls.sort()\n",
    "ls"
   ]
  },
  {
   "cell_type": "code",
   "execution_count": 17,
   "id": "3ff3bdab",
   "metadata": {},
   "outputs": [
    {
     "data": {
      "text/plain": [
       "['/home/funk/repos/sm-DN_tasks/data/TEST/psychophysics/sub-01/ses-01/sub-01_ses-01_task-TempRep_run-01.edf',\n",
       " '/home/funk/repos/sm-DN_tasks/data/TEST/psychophysics/sub-01/ses-01/sub-01_ses-01_task-SigDet_run-01.edf',\n",
       " '/home/funk/repos/sm-DN_tasks/data/TEST/psychophysics/sub-01/ses-01/sub-01_ses-01_task-TempRep_run-01_events.tsv',\n",
       " '/home/funk/repos/sm-DN_tasks/data/TEST/psychophysics/sub-01/ses-01/sub-01_ses-01_task-TempIntTOJ_run-01.edf',\n",
       " '/home/funk/repos/sm-DN_tasks/data/TEST/psychophysics/sub-01/ses-01/sub-01_ses-01_task-TempIntTOJ_run-01_events.tsv',\n",
       " '/home/funk/repos/sm-DN_tasks/data/TEST/psychophysics/sub-01/ses-01/sub-01_ses-01_task-SigDet_run-01_events.tsv',\n",
       " '/home/funk/repos/sm-DN_tasks/data/TEST/psychophysics/sub-01/ses-01/sub-01_ses-01_task-TempIntSJ_run-01.edf',\n",
       " '/home/funk/repos/sm-DN_tasks/data/TEST/psychophysics/sub-01/ses-01/sub-01_ses-01_task-TempIntSJ_run-01_events.tsv']"
      ]
     },
     "execution_count": 17,
     "metadata": {},
     "output_type": "execute_result"
    }
   ],
   "source": [
    "glob(os.path.join(data_root, f'sub-{sub}', f'ses-01', '*'))"
   ]
  },
  {
   "cell_type": "code",
   "execution_count": 14,
   "id": "e45a0e8e",
   "metadata": {},
   "outputs": [
    {
     "data": {
      "text/plain": [
       "['/home/funk/repos/sm-DN_tasks/data/TEST/psychophysics/sub-01/ses-01']"
      ]
     },
     "execution_count": 14,
     "metadata": {},
     "output_type": "execute_result"
    }
   ],
   "source": [
    "glob('/home/funk/repos/sm-DN_tasks/data/TEST/psychophysics/sub-01/ses-01')"
   ]
  },
  {
   "cell_type": "code",
   "execution_count": 3,
   "id": "bfba1376",
   "metadata": {},
   "outputs": [
    {
     "name": "stdout",
     "output_type": "stream",
     "text": [
      "Not found TempInt_pilot/sub-01/ses-00/sub-01_ses-00_task-TempInt_run-01_events.tsv\n",
      "Not found TempInt_pilot/sub-01/ses-01/sub-01_ses-01_task-TempInt_run-01_events.tsv\n",
      "Not found TempInt_pilot/sub-01/ses-02/sub-01_ses-02_task-TempInt_run-01_events.tsv\n",
      "Not found TempInt_pilot/sub-01/ses-03/sub-01_ses-03_task-TempInt_run-01_events.tsv\n"
     ]
    },
    {
     "data": {
      "text/plain": [
       "[]"
      ]
     },
     "execution_count": 3,
     "metadata": {},
     "output_type": "execute_result"
    }
   ],
   "source": [
    "select_data_tempInt([sub], ['00', '01', '02', '03'], ['01'])"
   ]
  }
 ],
 "metadata": {
  "kernelspec": {
   "display_name": "Python 3 (ipykernel)",
   "language": "python",
   "name": "python3"
  },
  "language_info": {
   "codemirror_mode": {
    "name": "ipython",
    "version": 3
   },
   "file_extension": ".py",
   "mimetype": "text/x-python",
   "name": "python",
   "nbconvert_exporter": "python",
   "pygments_lexer": "ipython3",
   "version": "3.8.11"
  }
 },
 "nbformat": 4,
 "nbformat_minor": 5
}
